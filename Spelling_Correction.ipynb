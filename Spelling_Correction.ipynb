{
  "nbformat": 4,
  "nbformat_minor": 0,
  "metadata": {
    "colab": {
      "name": "Spelling Correction (with TextBlob)",
      "provenance": [],
      "authorship_tag": "ABX9TyPhccfyhHFPU/3JhD7h9kQK",
      "include_colab_link": true
    },
    "kernelspec": {
      "name": "python3",
      "display_name": "Python 3"
    },
    "language_info": {
      "name": "python"
    }
  },
  "cells": [
    {
      "cell_type": "markdown",
      "metadata": {
        "id": "view-in-github",
        "colab_type": "text"
      },
      "source": [
        "<a href=\"https://colab.research.google.com/github/lucasbejarano/NLP/blob/main/Spelling_Correction.ipynb\" target=\"_parent\"><img src=\"https://colab.research.google.com/assets/colab-badge.svg\" alt=\"Open In Colab\"/></a>"
      ]
    },
    {
      "cell_type": "code",
      "metadata": {
        "colab": {
          "base_uri": "https://localhost:8080/"
        },
        "id": "9fYBIJ0CwF-n",
        "outputId": "1499c3e8-5f3d-40a9-b7db-5a8bd92970c6"
      },
      "source": [
        "# Instalamos la libreria\n",
        "!pip install textblob"
      ],
      "execution_count": 1,
      "outputs": [
        {
          "output_type": "stream",
          "name": "stdout",
          "text": [
            "Requirement already satisfied: textblob in /usr/local/lib/python3.7/dist-packages (0.15.3)\n",
            "Requirement already satisfied: nltk>=3.1 in /usr/local/lib/python3.7/dist-packages (from textblob) (3.2.5)\n",
            "Requirement already satisfied: six in /usr/local/lib/python3.7/dist-packages (from nltk>=3.1->textblob) (1.15.0)\n"
          ]
        }
      ]
    },
    {
      "cell_type": "code",
      "metadata": {
        "id": "_t_7PPG5wWPm"
      },
      "source": [
        "#Agregamos las librerias necesarias\n",
        "from textblob import TextBlob\n",
        "import re"
      ],
      "execution_count": 2,
      "outputs": []
    },
    {
      "cell_type": "code",
      "metadata": {
        "colab": {
          "base_uri": "https://localhost:8080/"
        },
        "id": "IRJCXMavw7-g",
        "outputId": "87e8b7b3-c15a-4e11-ae8d-29d7bb0aebca"
      },
      "source": [
        "docx='''People have travelled through and inhabited the Toronto area, located on a broad sloping plateau interspersed with rivers, \n",
        "      deep ravines, and urban forest, for more than 10,000 years.[18] After the broadly disputed Torronto Purchase, when the \n",
        "      Mississauga surrendered the area to the British Crown,[19] the British established the town of York in 1793 and later \n",
        "      designeted it as the capital of Upper Canada.[20] During the War of 1812, the town was the site of the Battle of York and \n",
        "      suffered heavy damage by American troops.[21] York was renamed and incorporated in 1834 as the city of Toronto. It was \n",
        "      designated as the capitel of the province of Ontario in 1867 during Canadian Confederation.[22] The city proper has since \n",
        "      expanded past its original borders through both annexation and amalgamation to its current area of 630.2 km2 (243.3 sq mi). \n",
        "      The diverse population of Tornto reflects its current and historical role as an important destination for immigrants to Canada.\n",
        "      [23][24] More than 50 percent of residants belong to a visible minority population group,[25] and over 200 distinct ethnic \n",
        "      origins are represented among its inhabitats.[26] While the majority of Torontonians speak English as their premary language, \n",
        "      over 160 languages are spoken in the city.[27] Toront is a prominent center for music,[28] theatre,[29] motion picture \n",
        "      production,[30] and tilevision production,[31] and is home to the headquarters of Canada's major notional broadcast networks \n",
        "      and media outlets.[32] Its varied caltural institutions,[33] which include numerous museums and gelleries, festivals and \n",
        "      public events, entertaiment districts, national historic sites, and sports actevities,[34] attract over 43 million touriets \n",
        "      each year.[35][36] Torunto is known for its many skysvrapers and high-rise buildinds,[37] in particalar the tallest \n",
        "      free-standind structure in the Western Hemisphere, the CN Tower.'''\n",
        "\n",
        "print(docx)"
      ],
      "execution_count": 3,
      "outputs": [
        {
          "output_type": "stream",
          "name": "stdout",
          "text": [
            "People have travelled through and inhabited the Toronto area, located on a broad sloping plateau interspersed with rivers, \n",
            "      deep ravines, and urban forest, for more than 10,000 years.[18] After the broadly disputed Torronto Purchase, when the \n",
            "      Mississauga surrendered the area to the British Crown,[19] the British established the town of York in 1793 and later \n",
            "      designeted it as the capital of Upper Canada.[20] During the War of 1812, the town was the site of the Battle of York and \n",
            "      suffered heavy damage by American troops.[21] York was renamed and incorporated in 1834 as the city of Toronto. It was \n",
            "      designated as the capitel of the province of Ontario in 1867 during Canadian Confederation.[22] The city proper has since \n",
            "      expanded past its original borders through both annexation and amalgamation to its current area of 630.2 km2 (243.3 sq mi). \n",
            "      The diverse population of Tornto reflects its current and historical role as an important destination for immigrants to Canada.\n",
            "      [23][24] More than 50 percent of residants belong to a visible minority population group,[25] and over 200 distinct ethnic \n",
            "      origins are represented among its inhabitats.[26] While the majority of Torontonians speak English as their premary language, \n",
            "      over 160 languages are spoken in the city.[27] Toront is a prominent center for music,[28] theatre,[29] motion picture \n",
            "      production,[30] and tilevision production,[31] and is home to the headquarters of Canada's major notional broadcast networks \n",
            "      and media outlets.[32] Its varied caltural institutions,[33] which include numerous museums and gelleries, festivals and \n",
            "      public events, entertaiment districts, national historic sites, and sports actevities,[34] attract over 43 million touriets \n",
            "      each year.[35][36] Torunto is known for its many skysvrapers and high-rise buildinds,[37] in particalar the tallest \n",
            "      free-standind structure in the Western Hemisphere, the CN Tower.\n"
          ]
        }
      ]
    },
    {
      "cell_type": "code",
      "metadata": {
        "id": "BQR77xIC5w7L"
      },
      "source": [
        "import re"
      ],
      "execution_count": 5,
      "outputs": []
    },
    {
      "cell_type": "code",
      "metadata": {
        "colab": {
          "base_uri": "https://localhost:8080/"
        },
        "id": "3Q95fKJb5-1-",
        "outputId": "606086e0-d82e-4ff2-f9db-f621eb5e9b1d"
      },
      "source": [
        "# Usamos RegEx para limpiar el texto \n",
        "str = re.findall(\"[a-zA-Z,.]+\", docx)\n",
        "updated_docx = (\" \".join(str))\n",
        "print(updated_docx)"
      ],
      "execution_count": 6,
      "outputs": [
        {
          "output_type": "stream",
          "name": "stdout",
          "text": [
            "People have travelled through and inhabited the Toronto area, located on a broad sloping plateau interspersed with rivers, deep ravines, and urban forest, for more than , years. After the broadly disputed Torronto Purchase, when the Mississauga surrendered the area to the British Crown, the British established the town of York in and later designeted it as the capital of Upper Canada. During the War of , the town was the site of the Battle of York and suffered heavy damage by American troops. York was renamed and incorporated in as the city of Toronto. It was designated as the capitel of the province of Ontario in during Canadian Confederation. The city proper has since expanded past its original borders through both annexation and amalgamation to its current area of . km . sq mi . The diverse population of Tornto reflects its current and historical role as an important destination for immigrants to Canada. More than percent of residants belong to a visible minority population group, and over distinct ethnic origins are represented among its inhabitats. While the majority of Torontonians speak English as their premary language, over languages are spoken in the city. Toront is a prominent center for music, theatre, motion picture production, and tilevision production, and is home to the headquarters of Canada s major notional broadcast networks and media outlets. Its varied caltural institutions, which include numerous museums and gelleries, festivals and public events, entertaiment districts, national historic sites, and sports actevities, attract over million touriets each year. Torunto is known for its many skysvrapers and high rise buildinds, in particalar the tallest free standind structure in the Western Hemisphere, the CN Tower.\n"
          ]
        }
      ]
    },
    {
      "cell_type": "code",
      "metadata": {
        "colab": {
          "base_uri": "https://localhost:8080/"
        },
        "id": "mXEJ9aO36Oy4",
        "outputId": "745dbcfb-1f06-4c4b-b005-bc3886d6dc65"
      },
      "source": [
        "#Instalamos la libreria SpellChecker\n",
        "!pip install pyspellchecker"
      ],
      "execution_count": 10,
      "outputs": [
        {
          "output_type": "stream",
          "name": "stdout",
          "text": [
            "Collecting pyspellchecker\n",
            "  Downloading pyspellchecker-0.6.2-py3-none-any.whl (2.7 MB)\n",
            "\u001b[K     |████████████████████████████████| 2.7 MB 5.1 MB/s \n",
            "\u001b[?25hInstalling collected packages: pyspellchecker\n",
            "Successfully installed pyspellchecker-0.6.2\n"
          ]
        }
      ]
    },
    {
      "cell_type": "code",
      "metadata": {
        "id": "HZ5DWdz96brD"
      },
      "source": [
        "from spellchecker import SpellChecker"
      ],
      "execution_count": 11,
      "outputs": []
    },
    {
      "cell_type": "code",
      "metadata": {
        "id": "qDsFFZ716wFL"
      },
      "source": [
        "spell = SpellChecker() #Creamos el objeto SC"
      ],
      "execution_count": 12,
      "outputs": []
    },
    {
      "cell_type": "code",
      "metadata": {
        "colab": {
          "base_uri": "https://localhost:8080/"
        },
        "id": "Lp5B4EZW6yez",
        "outputId": "9aa26c9e-7a6f-4895-d261-b2a0d7d694c8"
      },
      "source": [
        "misspelled = spell.unknown(str) #Identificamos palabras desconocidas (mal escritas)\n",
        "print(misspelled)"
      ],
      "execution_count": 13,
      "outputs": [
        {
          "output_type": "stream",
          "name": "stdout",
          "text": [
            "{'language,', 'gelleries,', 'toront', 'toronto.', 'group,', 'tilevision', 'outlets.', 'skysvrapers', 'particalar', 'residants', 'tower.', 'city.', 's', 'hemisphere,', 'events,', 'area,', 'confederation.', 'capitel', 'year.', 'torontonians', 'theatre,', 'caltural', 'torunto', 'troops.', 'sites,', 'years.', 'production,', 'standind', 'entertaiment', 'designeted', 'mississauga', 'premary', 'music,', 'buildinds,', 'forest,', 'actevities,', 'canada.', 'cn', 'torronto', 'crown,', 'km', 'institutions,', 'rivers,', 'touriets', 'districts,', 'tornto', 'inhabitats.', 'ravines,', 'sq', 'purchase,'}\n"
          ]
        }
      ]
    },
    {
      "cell_type": "code",
      "metadata": {
        "colab": {
          "base_uri": "https://localhost:8080/"
        },
        "id": "u_4ozbxY67w8",
        "outputId": "c26a04aa-75fc-486e-e592-5ce1662d3b9f"
      },
      "source": [
        "new_doc = TextBlob(updated_docx) #Creamos el objeto a partir del \n",
        "\n",
        "result = new_doc.correct() #Spelling correction \n",
        "\n",
        "print(result)"
      ],
      "execution_count": 15,
      "outputs": [
        {
          "output_type": "stream",
          "name": "stdout",
          "text": [
            "People have travelled through and inhabited the Toronto area, located on a broad sloping plateau interspersed with rivers, deep ravines, and urban forest, for more than , years. After the broadly disputed Torronto Purchase, when the Mississauga surrendered the area to the British Grown, the British established the town of Work in and later designed it as the capital of Upper Canada. During the War of , the town was the site of the Battle of Work and suffered heavy damage by American troops. Work was renamed and incorporated in as the city of Toronto. It was designate as the capital of the province of Ontario in during Canadian Confederation. The city proper has since expanded past its original borders through both annexation and amalgamation to its current area of . km . sq mi . The diverse population of Onto reflect its current and historical role as an important destination for immigrants to Canada. More than percent of residents belong to a visible minority population group, and over distinct ethnic origins are represented among its inhabitants. While the majority of Torontonians speak English as their primary language, over languages are spoken in the city. Front is a prominent center for music, theatre, motion picture production, and television production, and is home to the headquarters of Canada s major national broadcast network and media outlets. Its varied cultural institutions, which include numerous museums and galleries, festival and public events, entertainment districts, national historic sites, and sports activities, attract over million tories each year. Torunto is known for its many skysvrapers and high rise buildings, in particular the tables free standing structure in the Western Hemisphere, the of Power.\n"
          ]
        }
      ]
    }
  ]
}